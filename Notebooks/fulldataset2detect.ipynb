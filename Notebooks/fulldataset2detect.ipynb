{
 "cells": [
  {
   "cell_type": "code",
   "execution_count": 9,
   "metadata": {},
   "outputs": [],
   "source": [
    "import os\n",
    "import cv2\n",
    "import numpy as np"
   ]
  },
  {
   "cell_type": "code",
   "execution_count": 10,
   "metadata": {},
   "outputs": [],
   "source": [
    "# Path to the folder containing masked images\n",
    "seg_folder = \"Data/annotations/\"\n",
    "# Segmentation color value (adjust according to your segmentation)\n",
    "seg_value = 1\n",
    "# Path to the folder where you want to save bounding box annotations or images\n",
    "output_folder = \"Data/annotations/bbox/\"\n",
    "# Create the output folder if it doesn't exist\n",
    "os.makedirs(output_folder, exist_ok=True)"
   ]
  },
  {
   "cell_type": "code",
   "execution_count": 12,
   "metadata": {},
   "outputs": [
    {
     "name": "stdout",
     "output_type": "stream",
     "text": [
      "YOLO annotation files generated.\n"
     ]
    }
   ],
   "source": [
    "# Loop through the segmentation images in the input folder\n",
    "for filename in os.listdir(seg_folder):\n",
    "    if filename.endswith(\".png\"):\n",
    "        seg_path = os.path.join(seg_folder, filename)\n",
    "        \n",
    "        # Read the image as grayscale\n",
    "        gray_image = cv2.imread(seg_path, cv2.IMREAD_GRAYSCALE)\n",
    "        \n",
    "        # Define the threshold to separate the gray weeds from the background\n",
    "        threshold = 1\n",
    "        \n",
    "        # Create a binary mask for the gray weeds\n",
    "        binary_mask = (gray_image > threshold).astype(np.uint8)\n",
    "        \n",
    "        # Find contours in the binary mask\n",
    "        contours, _ = cv2.findContours(binary_mask, cv2.RETR_EXTERNAL, cv2.CHAIN_APPROX_SIMPLE)\n",
    "        \n",
    "        # Prepare the annotation lines for YOLO format\n",
    "        annotation_lines = []\n",
    "        \n",
    "        for contour in contours:\n",
    "            # Calculate bounding box coordinates\n",
    "            x, y, w, h = cv2.boundingRect(contour)\n",
    "            x_center = (x + w / 2) / gray_image.shape[1]\n",
    "            y_center = (y + h / 2) / gray_image.shape[0]\n",
    "            width = w / gray_image.shape[1]\n",
    "            height = h / gray_image.shape[0]\n",
    "            \n",
    "            # Add the annotation line to the list\n",
    "            annotation_lines.append(f\"0 {x_center:.6f} {y_center:.6f} {width:.6f} {height:.6f}\")\n",
    "        \n",
    "        # Save the annotation lines to a YOLO annotation file\n",
    "        output_filename = os.path.splitext(filename)[0] + \".txt\"\n",
    "        output_path = os.path.join(output_folder, output_filename)\n",
    "        with open(output_path, 'w') as f:\n",
    "            for line in annotation_lines:\n",
    "                f.write(line + '\\n')\n",
    "\n",
    "print(\"YOLO annotation files generated.\")"
   ]
  }
 ],
 "metadata": {
  "kernelspec": {
   "display_name": "veg",
   "language": "python",
   "name": "python3"
  },
  "language_info": {
   "codemirror_mode": {
    "name": "ipython",
    "version": 3
   },
   "file_extension": ".py",
   "mimetype": "text/x-python",
   "name": "python",
   "nbconvert_exporter": "python",
   "pygments_lexer": "ipython3",
   "version": "3.11.3"
  },
  "orig_nbformat": 4
 },
 "nbformat": 4,
 "nbformat_minor": 2
}
